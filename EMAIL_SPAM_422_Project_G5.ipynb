{
  "nbformat": 4,
  "nbformat_minor": 0,
  "metadata": {
    "colab": {
      "provenance": []
    },
    "kernelspec": {
      "name": "python3",
      "display_name": "Python 3"
    },
    "language_info": {
      "name": "python"
    }
  },
  "cells": [
    {
      "cell_type": "markdown",
      "source": [
        "# **DATASET** \n",
        "https://www.kaggle.com/datasets/shantanudhakadd/email-spam-detection-dataset-classification\n",
        "\n",
        "# **Report**\n",
        "https://docs.google.com/document/d/1LDhyt0vLWD2esYvI1_KxG4tEYkcsW4xr3yGoSyUUHyY/edit?usp=sharing"
      ],
      "metadata": {
        "id": "hDJ_0Q4_0_Xy"
      }
    },
    {
      "cell_type": "markdown",
      "source": [
        "# 1. **Read dataset**"
      ],
      "metadata": {
        "id": "msFwCvzMSgHW"
      }
    },
    {
      "cell_type": "code",
      "source": [
        "import numpy as np \n",
        "import pandas as pd\n",
        "from google.colab import drive\n",
        "drive.mount('/content/drive')\n",
        "#mail= pd.read_csv('/content/spam.csv', encoding='latin-1')\n",
        "mail= pd.read_csv('/content/drive/MyDrive/Colab Notebooks/spam2.csv', encoding='latin-1')\n",
        "mail.head(1600)\n"
      ],
      "metadata": {
        "colab": {
          "base_uri": "https://localhost:8080/",
          "height": 441
        },
        "id": "hHzfdZ9jm5x0",
        "outputId": "40f6e859-4c51-4106-f722-c816dae10287"
      },
      "execution_count": null,
      "outputs": [
        {
          "output_type": "stream",
          "name": "stdout",
          "text": [
            "Drive already mounted at /content/drive; to attempt to forcibly remount, call drive.mount(\"/content/drive\", force_remount=True).\n"
          ]
        },
        {
          "output_type": "execute_result",
          "data": {
            "text/plain": [
              "        v1                                                 v2 Unnamed: 2  \\\n",
              "0      ham  Go until jurong point, crazy.. Available only ...        NaN   \n",
              "1      ham                      Ok lar... Joking wif u oni...        NaN   \n",
              "2     spam  Free entry in 2 a wkly comp to win FA Cup fina...        NaN   \n",
              "3      ham  U dun say so early hor... U c already then say...        NaN   \n",
              "4      ham  Nah I don't think he goes to usf, he lives aro...        NaN   \n",
              "...    ...                                                ...        ...   \n",
              "1595   ham        Pls confirm the time to collect the cheque.        NaN   \n",
              "1596  spam  As a Registered Subscriber yr draw 4 a å£100 g...        NaN   \n",
              "1597  spam  URGENT! Your Mobile number has been awarded wi...        NaN   \n",
              "1598   ham                Daddy will take good care of you :)        NaN   \n",
              "1599   ham    Yeah probably, I still gotta check out with leo        NaN   \n",
              "\n",
              "     Unnamed: 3 Unnamed: 4  \n",
              "0           NaN        NaN  \n",
              "1           NaN        NaN  \n",
              "2           NaN        NaN  \n",
              "3           NaN        NaN  \n",
              "4           NaN        NaN  \n",
              "...         ...        ...  \n",
              "1595        NaN        NaN  \n",
              "1596        NaN        NaN  \n",
              "1597        NaN        NaN  \n",
              "1598        NaN        NaN  \n",
              "1599        NaN        NaN  \n",
              "\n",
              "[1600 rows x 5 columns]"
            ],
            "text/html": [
              "\n",
              "  <div id=\"df-e2152339-ece2-46a9-a588-f36e75d6d67a\">\n",
              "    <div class=\"colab-df-container\">\n",
              "      <div>\n",
              "<style scoped>\n",
              "    .dataframe tbody tr th:only-of-type {\n",
              "        vertical-align: middle;\n",
              "    }\n",
              "\n",
              "    .dataframe tbody tr th {\n",
              "        vertical-align: top;\n",
              "    }\n",
              "\n",
              "    .dataframe thead th {\n",
              "        text-align: right;\n",
              "    }\n",
              "</style>\n",
              "<table border=\"1\" class=\"dataframe\">\n",
              "  <thead>\n",
              "    <tr style=\"text-align: right;\">\n",
              "      <th></th>\n",
              "      <th>v1</th>\n",
              "      <th>v2</th>\n",
              "      <th>Unnamed: 2</th>\n",
              "      <th>Unnamed: 3</th>\n",
              "      <th>Unnamed: 4</th>\n",
              "    </tr>\n",
              "  </thead>\n",
              "  <tbody>\n",
              "    <tr>\n",
              "      <th>0</th>\n",
              "      <td>ham</td>\n",
              "      <td>Go until jurong point, crazy.. Available only ...</td>\n",
              "      <td>NaN</td>\n",
              "      <td>NaN</td>\n",
              "      <td>NaN</td>\n",
              "    </tr>\n",
              "    <tr>\n",
              "      <th>1</th>\n",
              "      <td>ham</td>\n",
              "      <td>Ok lar... Joking wif u oni...</td>\n",
              "      <td>NaN</td>\n",
              "      <td>NaN</td>\n",
              "      <td>NaN</td>\n",
              "    </tr>\n",
              "    <tr>\n",
              "      <th>2</th>\n",
              "      <td>spam</td>\n",
              "      <td>Free entry in 2 a wkly comp to win FA Cup fina...</td>\n",
              "      <td>NaN</td>\n",
              "      <td>NaN</td>\n",
              "      <td>NaN</td>\n",
              "    </tr>\n",
              "    <tr>\n",
              "      <th>3</th>\n",
              "      <td>ham</td>\n",
              "      <td>U dun say so early hor... U c already then say...</td>\n",
              "      <td>NaN</td>\n",
              "      <td>NaN</td>\n",
              "      <td>NaN</td>\n",
              "    </tr>\n",
              "    <tr>\n",
              "      <th>4</th>\n",
              "      <td>ham</td>\n",
              "      <td>Nah I don't think he goes to usf, he lives aro...</td>\n",
              "      <td>NaN</td>\n",
              "      <td>NaN</td>\n",
              "      <td>NaN</td>\n",
              "    </tr>\n",
              "    <tr>\n",
              "      <th>...</th>\n",
              "      <td>...</td>\n",
              "      <td>...</td>\n",
              "      <td>...</td>\n",
              "      <td>...</td>\n",
              "      <td>...</td>\n",
              "    </tr>\n",
              "    <tr>\n",
              "      <th>1595</th>\n",
              "      <td>ham</td>\n",
              "      <td>Pls confirm the time to collect the cheque.</td>\n",
              "      <td>NaN</td>\n",
              "      <td>NaN</td>\n",
              "      <td>NaN</td>\n",
              "    </tr>\n",
              "    <tr>\n",
              "      <th>1596</th>\n",
              "      <td>spam</td>\n",
              "      <td>As a Registered Subscriber yr draw 4 a å£100 g...</td>\n",
              "      <td>NaN</td>\n",
              "      <td>NaN</td>\n",
              "      <td>NaN</td>\n",
              "    </tr>\n",
              "    <tr>\n",
              "      <th>1597</th>\n",
              "      <td>spam</td>\n",
              "      <td>URGENT! Your Mobile number has been awarded wi...</td>\n",
              "      <td>NaN</td>\n",
              "      <td>NaN</td>\n",
              "      <td>NaN</td>\n",
              "    </tr>\n",
              "    <tr>\n",
              "      <th>1598</th>\n",
              "      <td>ham</td>\n",
              "      <td>Daddy will take good care of you :)</td>\n",
              "      <td>NaN</td>\n",
              "      <td>NaN</td>\n",
              "      <td>NaN</td>\n",
              "    </tr>\n",
              "    <tr>\n",
              "      <th>1599</th>\n",
              "      <td>ham</td>\n",
              "      <td>Yeah probably, I still gotta check out with leo</td>\n",
              "      <td>NaN</td>\n",
              "      <td>NaN</td>\n",
              "      <td>NaN</td>\n",
              "    </tr>\n",
              "  </tbody>\n",
              "</table>\n",
              "<p>1600 rows × 5 columns</p>\n",
              "</div>\n",
              "      <button class=\"colab-df-convert\" onclick=\"convertToInteractive('df-e2152339-ece2-46a9-a588-f36e75d6d67a')\"\n",
              "              title=\"Convert this dataframe to an interactive table.\"\n",
              "              style=\"display:none;\">\n",
              "        \n",
              "  <svg xmlns=\"http://www.w3.org/2000/svg\" height=\"24px\"viewBox=\"0 0 24 24\"\n",
              "       width=\"24px\">\n",
              "    <path d=\"M0 0h24v24H0V0z\" fill=\"none\"/>\n",
              "    <path d=\"M18.56 5.44l.94 2.06.94-2.06 2.06-.94-2.06-.94-.94-2.06-.94 2.06-2.06.94zm-11 1L8.5 8.5l.94-2.06 2.06-.94-2.06-.94L8.5 2.5l-.94 2.06-2.06.94zm10 10l.94 2.06.94-2.06 2.06-.94-2.06-.94-.94-2.06-.94 2.06-2.06.94z\"/><path d=\"M17.41 7.96l-1.37-1.37c-.4-.4-.92-.59-1.43-.59-.52 0-1.04.2-1.43.59L10.3 9.45l-7.72 7.72c-.78.78-.78 2.05 0 2.83L4 21.41c.39.39.9.59 1.41.59.51 0 1.02-.2 1.41-.59l7.78-7.78 2.81-2.81c.8-.78.8-2.07 0-2.86zM5.41 20L4 18.59l7.72-7.72 1.47 1.35L5.41 20z\"/>\n",
              "  </svg>\n",
              "      </button>\n",
              "      \n",
              "  <style>\n",
              "    .colab-df-container {\n",
              "      display:flex;\n",
              "      flex-wrap:wrap;\n",
              "      gap: 12px;\n",
              "    }\n",
              "\n",
              "    .colab-df-convert {\n",
              "      background-color: #E8F0FE;\n",
              "      border: none;\n",
              "      border-radius: 50%;\n",
              "      cursor: pointer;\n",
              "      display: none;\n",
              "      fill: #1967D2;\n",
              "      height: 32px;\n",
              "      padding: 0 0 0 0;\n",
              "      width: 32px;\n",
              "    }\n",
              "\n",
              "    .colab-df-convert:hover {\n",
              "      background-color: #E2EBFA;\n",
              "      box-shadow: 0px 1px 2px rgba(60, 64, 67, 0.3), 0px 1px 3px 1px rgba(60, 64, 67, 0.15);\n",
              "      fill: #174EA6;\n",
              "    }\n",
              "\n",
              "    [theme=dark] .colab-df-convert {\n",
              "      background-color: #3B4455;\n",
              "      fill: #D2E3FC;\n",
              "    }\n",
              "\n",
              "    [theme=dark] .colab-df-convert:hover {\n",
              "      background-color: #434B5C;\n",
              "      box-shadow: 0px 1px 3px 1px rgba(0, 0, 0, 0.15);\n",
              "      filter: drop-shadow(0px 1px 2px rgba(0, 0, 0, 0.3));\n",
              "      fill: #FFFFFF;\n",
              "    }\n",
              "  </style>\n",
              "\n",
              "      <script>\n",
              "        const buttonEl =\n",
              "          document.querySelector('#df-e2152339-ece2-46a9-a588-f36e75d6d67a button.colab-df-convert');\n",
              "        buttonEl.style.display =\n",
              "          google.colab.kernel.accessAllowed ? 'block' : 'none';\n",
              "\n",
              "        async function convertToInteractive(key) {\n",
              "          const element = document.querySelector('#df-e2152339-ece2-46a9-a588-f36e75d6d67a');\n",
              "          const dataTable =\n",
              "            await google.colab.kernel.invokeFunction('convertToInteractive',\n",
              "                                                     [key], {});\n",
              "          if (!dataTable) return;\n",
              "\n",
              "          const docLinkHtml = 'Like what you see? Visit the ' +\n",
              "            '<a target=\"_blank\" href=https://colab.research.google.com/notebooks/data_table.ipynb>data table notebook</a>'\n",
              "            + ' to learn more about interactive tables.';\n",
              "          element.innerHTML = '';\n",
              "          dataTable['output_type'] = 'display_data';\n",
              "          await google.colab.output.renderOutput(dataTable, element);\n",
              "          const docLink = document.createElement('div');\n",
              "          docLink.innerHTML = docLinkHtml;\n",
              "          element.appendChild(docLink);\n",
              "        }\n",
              "      </script>\n",
              "    </div>\n",
              "  </div>\n",
              "  "
            ]
          },
          "metadata": {},
          "execution_count": 32
        }
      ]
    },
    {
      "cell_type": "markdown",
      "source": [
        "# **2. PRE-PROCESSING**"
      ],
      "metadata": {
        "id": "dYE6-vFTvWNa"
      }
    },
    {
      "cell_type": "markdown",
      "source": [
        "# i) Handel missing values"
      ],
      "metadata": {
        "id": "cgyIhLAkSj9E"
      }
    },
    {
      "cell_type": "code",
      "source": [
        "mail.drop(['Unnamed: 2','Unnamed: 3','Unnamed: 4'],inplace=True,axis=1)\n",
        "mail.shape"
      ],
      "metadata": {
        "colab": {
          "base_uri": "https://localhost:8080/"
        },
        "id": "k8BS0JPZQQ4N",
        "outputId": "22df9d4d-6474-4489-954c-10a23ee58b00"
      },
      "execution_count": null,
      "outputs": [
        {
          "output_type": "execute_result",
          "data": {
            "text/plain": [
              "(5572, 2)"
            ]
          },
          "metadata": {},
          "execution_count": 33
        }
      ]
    },
    {
      "cell_type": "code",
      "source": [
        "mail.isnull().sum()"
      ],
      "metadata": {
        "colab": {
          "base_uri": "https://localhost:8080/"
        },
        "id": "f8Gn3_jIQgwc",
        "outputId": "353f4270-e45e-4205-ca63-3f8b3c1a5afc"
      },
      "execution_count": null,
      "outputs": [
        {
          "output_type": "execute_result",
          "data": {
            "text/plain": [
              "v1    0\n",
              "v2    0\n",
              "dtype: int64"
            ]
          },
          "metadata": {},
          "execution_count": 34
        }
      ]
    },
    {
      "cell_type": "markdown",
      "source": [
        "# ii) Handel  duplicate value"
      ],
      "metadata": {
        "id": "V_lvTADr6YZF"
      }
    },
    {
      "cell_type": "code",
      "source": [
        "mail.duplicated().sum()"
      ],
      "metadata": {
        "colab": {
          "base_uri": "https://localhost:8080/"
        },
        "id": "IOp7oktdQrlO",
        "outputId": "861469e0-2a3f-487a-c741-acd7d7c240a5"
      },
      "execution_count": null,
      "outputs": [
        {
          "output_type": "execute_result",
          "data": {
            "text/plain": [
              "403"
            ]
          },
          "metadata": {},
          "execution_count": 35
        }
      ]
    },
    {
      "cell_type": "code",
      "source": [
        "#drop duplicates if any\n",
        "mail=mail.drop_duplicates()\n",
        "mail.shape\n",
        "mail.duplicated().sum()"
      ],
      "metadata": {
        "colab": {
          "base_uri": "https://localhost:8080/"
        },
        "id": "G16IgfWhQntj",
        "outputId": "9920723b-4ff7-453c-ed2a-12e52beca409"
      },
      "execution_count": null,
      "outputs": [
        {
          "output_type": "execute_result",
          "data": {
            "text/plain": [
              "0"
            ]
          },
          "metadata": {},
          "execution_count": 36
        }
      ]
    },
    {
      "cell_type": "code",
      "source": [
        "mail.shape"
      ],
      "metadata": {
        "colab": {
          "base_uri": "https://localhost:8080/"
        },
        "id": "morS0pulQyj2",
        "outputId": "248a83cc-5675-4b70-f688-099f0a0eebf4"
      },
      "execution_count": null,
      "outputs": [
        {
          "output_type": "execute_result",
          "data": {
            "text/plain": [
              "(5169, 2)"
            ]
          },
          "metadata": {},
          "execution_count": 37
        }
      ]
    },
    {
      "cell_type": "markdown",
      "source": [
        "#  iii) Label Encoding"
      ],
      "metadata": {
        "id": "ryW8-s7XSS63"
      }
    },
    {
      "cell_type": "code",
      "source": [
        "from sklearn.preprocessing import LabelEncoder\n",
        "enc = LabelEncoder()\n",
        "mail['v1'] = enc.fit_transform(mail['v1'])\n",
        "print(mail[['v1']].head())\n",
        "print(\"ham = 0 and spam = 1\")"
      ],
      "metadata": {
        "colab": {
          "base_uri": "https://localhost:8080/"
        },
        "id": "LEkyLhLmQ2Fx",
        "outputId": "034ed5d1-3079-44ef-c0c0-0e481a1c354c"
      },
      "execution_count": null,
      "outputs": [
        {
          "output_type": "stream",
          "name": "stdout",
          "text": [
            "   v1\n",
            "0   0\n",
            "1   0\n",
            "2   1\n",
            "3   0\n",
            "4   0\n",
            "ham = 0 and spam = 1\n"
          ]
        }
      ]
    },
    {
      "cell_type": "code",
      "source": [
        "import matplotlib.pyplot as plt\n",
        "plt.pie(mail['v1'].value_counts(), labels=['ham','spam'],autopct=\"%0.2f\")\n",
        "plt.show()"
      ],
      "metadata": {
        "colab": {
          "base_uri": "https://localhost:8080/",
          "height": 248
        },
        "id": "j5R3OkCuDS0d",
        "outputId": "83e3dbde-6d2f-41ff-dc27-ca8a9ca9fa76"
      },
      "execution_count": null,
      "outputs": [
        {
          "output_type": "display_data",
          "data": {
            "text/plain": [
              "<Figure size 432x288 with 1 Axes>"
            ],
            "image/png": "[encoded data removed]"
          },
          "metadata": {}
        }
      ]
    },
    {
      "cell_type": "code",
      "source": [
        "C,D=mail['v1'].value_counts()\n",
        "#import matplotlib.pyplot as plt\n",
        "#fig = plt.figure()\n",
        "#ax = fig.add_axes([0,0,1,1])\n",
        "#tag=['Ham', 'Spam']\n",
        "#num=[C,D]\n",
        "#ax.bar(tag,num)\n",
        "#plt.show()"
      ],
      "metadata": {
        "id": "zoRph6pfRamM"
      },
      "execution_count": null,
      "outputs": []
    },
    {
      "cell_type": "code",
      "source": [
        "print(\"Number of Ham\",C, \"\\nNumber of Spam\",D)"
      ],
      "metadata": {
        "colab": {
          "base_uri": "https://localhost:8080/"
        },
        "id": "eYuxO43kt0Pz",
        "outputId": "c4417ad3-4f21-4f7e-a0ba-3dddd967474f"
      },
      "execution_count": null,
      "outputs": [
        {
          "output_type": "stream",
          "name": "stdout",
          "text": [
            "Number of Ham 4516 \n",
            "Number of Spam 653\n"
          ]
        }
      ]
    },
    {
      "cell_type": "code",
      "source": [
        "mail.head()"
      ],
      "metadata": {
        "colab": {
          "base_uri": "https://localhost:8080/",
          "height": 206
        },
        "id": "MXWhj04Cc6vu",
        "outputId": "7e4ba034-89df-4171-fb7d-6861f86556ab"
      },
      "execution_count": null,
      "outputs": [
        {
          "output_type": "execute_result",
          "data": {
            "text/plain": [
              "   v1                                                 v2\n",
              "0   0  Go until jurong point, crazy.. Available only ...\n",
              "1   0                      Ok lar... Joking wif u oni...\n",
              "2   1  Free entry in 2 a wkly comp to win FA Cup fina...\n",
              "3   0  U dun say so early hor... U c already then say...\n",
              "4   0  Nah I don't think he goes to usf, he lives aro..."
            ],
            "text/html": [
              "\n",
              "  <div id=\"df-c929173b-957c-49ee-ae0e-019a0afb0a0f\">\n",
              "    <div class=\"colab-df-container\">\n",
              "      <div>\n",
              "<style scoped>\n",
              "    .dataframe tbody tr th:only-of-type {\n",
              "        vertical-align: middle;\n",
              "    }\n",
              "\n",
              "    .dataframe tbody tr th {\n",
              "        vertical-align: top;\n",
              "    }\n",
              "\n",
              "    .dataframe thead th {\n",
              "        text-align: right;\n",
              "    }\n",
              "</style>\n",
              "<table border=\"1\" class=\"dataframe\">\n",
              "  <thead>\n",
              "    <tr style=\"text-align: right;\">\n",
              "      <th></th>\n",
              "      <th>v1</th>\n",
              "      <th>v2</th>\n",
              "    </tr>\n",
              "  </thead>\n",
              "  <tbody>\n",
              "    <tr>\n",
              "      <th>0</th>\n",
              "      <td>0</td>\n",
              "      <td>Go until jurong point, crazy.. Available only ...</td>\n",
              "    </tr>\n",
              "    <tr>\n",
              "      <th>1</th>\n",
              "      <td>0</td>\n",
              "      <td>Ok lar... Joking wif u oni...</td>\n",
              "    </tr>\n",
              "    <tr>\n",
              "      <th>2</th>\n",
              "      <td>1</td>\n",
              "      <td>Free entry in 2 a wkly comp to win FA Cup fina...</td>\n",
              "    </tr>\n",
              "    <tr>\n",
              "      <th>3</th>\n",
              "      <td>0</td>\n",
              "      <td>U dun say so early hor... U c already then say...</td>\n",
              "    </tr>\n",
              "    <tr>\n",
              "      <th>4</th>\n",
              "      <td>0</td>\n",
              "      <td>Nah I don't think he goes to usf, he lives aro...</td>\n",
              "    </tr>\n",
              "  </tbody>\n",
              "</table>\n",
              "</div>\n",
              "      <button class=\"colab-df-convert\" onclick=\"convertToInteractive('df-c929173b-957c-49ee-ae0e-019a0afb0a0f')\"\n",
              "              title=\"Convert this dataframe to an interactive table.\"\n",
              "              style=\"display:none;\">\n",
              "        \n",
              "  <svg xmlns=\"http://www.w3.org/2000/svg\" height=\"24px\"viewBox=\"0 0 24 24\"\n",
              "       width=\"24px\">\n",
              "    <path d=\"M0 0h24v24H0V0z\" fill=\"none\"/>\n",
              "    <path d=\"M18.56 5.44l.94 2.06.94-2.06 2.06-.94-2.06-.94-.94-2.06-.94 2.06-2.06.94zm-11 1L8.5 8.5l.94-2.06 2.06-.94-2.06-.94L8.5 2.5l-.94 2.06-2.06.94zm10 10l.94 2.06.94-2.06 2.06-.94-2.06-.94-.94-2.06-.94 2.06-2.06.94z\"/><path d=\"M17.41 7.96l-1.37-1.37c-.4-.4-.92-.59-1.43-.59-.52 0-1.04.2-1.43.59L10.3 9.45l-7.72 7.72c-.78.78-.78 2.05 0 2.83L4 21.41c.39.39.9.59 1.41.59.51 0 1.02-.2 1.41-.59l7.78-7.78 2.81-2.81c.8-.78.8-2.07 0-2.86zM5.41 20L4 18.59l7.72-7.72 1.47 1.35L5.41 20z\"/>\n",
              "  </svg>\n",
              "      </button>\n",
              "      \n",
              "  <style>\n",
              "    .colab-df-container {\n",
              "      display:flex;\n",
              "      flex-wrap:wrap;\n",
              "      gap: 12px;\n",
              "    }\n",
              "\n",
              "    .colab-df-convert {\n",
              "      background-color: #E8F0FE;\n",
              "      border: none;\n",
              "      border-radius: 50%;\n",
              "      cursor: pointer;\n",
              "      display: none;\n",
              "      fill: #1967D2;\n",
              "      height: 32px;\n",
              "      padding: 0 0 0 0;\n",
              "      width: 32px;\n",
              "    }\n",
              "\n",
              "    .colab-df-convert:hover {\n",
              "      background-color: #E2EBFA;\n",
              "      box-shadow: 0px 1px 2px rgba(60, 64, 67, 0.3), 0px 1px 3px 1px rgba(60, 64, 67, 0.15);\n",
              "      fill: #174EA6;\n",
              "    }\n",
              "\n",
              "    [theme=dark] .colab-df-convert {\n",
              "      background-color: #3B4455;\n",
              "      fill: #D2E3FC;\n",
              "    }\n",
              "\n",
              "    [theme=dark] .colab-df-convert:hover {\n",
              "      background-color: #434B5C;\n",
              "      box-shadow: 0px 1px 3px 1px rgba(0, 0, 0, 0.15);\n",
              "      filter: drop-shadow(0px 1px 2px rgba(0, 0, 0, 0.3));\n",
              "      fill: #FFFFFF;\n",
              "    }\n",
              "  </style>\n",
              "\n",
              "      <script>\n",
              "        const buttonEl =\n",
              "          document.querySelector('#df-c929173b-957c-49ee-ae0e-019a0afb0a0f button.colab-df-convert');\n",
              "        buttonEl.style.display =\n",
              "          google.colab.kernel.accessAllowed ? 'block' : 'none';\n",
              "\n",
              "        async function convertToInteractive(key) {\n",
              "          const element = document.querySelector('#df-c929173b-957c-49ee-ae0e-019a0afb0a0f');\n",
              "          const dataTable =\n",
              "            await google.colab.kernel.invokeFunction('convertToInteractive',\n",
              "                                                     [key], {});\n",
              "          if (!dataTable) return;\n",
              "\n",
              "          const docLinkHtml = 'Like what you see? Visit the ' +\n",
              "            '<a target=\"_blank\" href=https://colab.research.google.com/notebooks/data_table.ipynb>data table notebook</a>'\n",
              "            + ' to learn more about interactive tables.';\n",
              "          element.innerHTML = '';\n",
              "          dataTable['output_type'] = 'display_data';\n",
              "          await google.colab.output.renderOutput(dataTable, element);\n",
              "          const docLink = document.createElement('div');\n",
              "          docLink.innerHTML = docLinkHtml;\n",
              "          element.appendChild(docLink);\n",
              "        }\n",
              "      </script>\n",
              "    </div>\n",
              "  </div>\n",
              "  "
            ]
          },
          "metadata": {},
          "execution_count": 42
        }
      ]
    },
    {
      "cell_type": "markdown",
      "source": [
        "# iv) Filtering Text Data"
      ],
      "metadata": {
        "id": "j__AF0hb9yQE"
      }
    },
    {
      "cell_type": "code",
      "source": [
        "#import nltk\n",
        "#nltk.download('punkt')\n",
        "\n",
        "#string\n",
        "#mail['v2'].dropna(inplace=True)\n",
        "mail['v2'] = mail['v2'].astype(str)\n",
        "\n",
        "#case handel\n",
        "mail['v2'] = mail['v2'].str.lower()\n",
        "\n",
        "#stopwords\n",
        "import nltk\n",
        "nltk.download('stopwords')\n",
        "from nltk.corpus import stopwords\n",
        "stop_words = stopwords.words('english')\n",
        "mail['v2'] = mail['v2'].apply(lambda x: ' '.join([word for word in x.split() if word not in (stop_words)]))\n",
        "\n",
        "# special char\n",
        "mail = mail.replace(r'[^\\w\\s]|_', '', regex=True)\n",
        "\n",
        "mail.head()\n"
      ],
      "metadata": {
        "colab": {
          "base_uri": "https://localhost:8080/",
          "height": 241
        },
        "id": "y9zAYzCb3AzE",
        "outputId": "5e0cc295-c377-4713-bc35-53c9e18f9526"
      },
      "execution_count": null,
      "outputs": [
        {
          "output_type": "stream",
          "name": "stderr",
          "text": [
            "[nltk_data] Downloading package stopwords to /root/nltk_data...\n",
            "[nltk_data]   Package stopwords is already up-to-date!\n"
          ]
        },
        {
          "output_type": "execute_result",
          "data": {
            "text/plain": [
              "   v1                                                 v2\n",
              "0   0  go jurong point crazy available bugis n great ...\n",
              "1   0                            ok lar joking wif u oni\n",
              "2   1  free entry 2 wkly comp win fa cup final tkts 2...\n",
              "3   0                u dun say early hor u c already say\n",
              "4   0             nah think goes usf lives around though"
            ],
            "text/html": [
              "\n",
              "  <div id=\"df-71b41499-4c3c-439d-b5a6-e8f51bb9f152\">\n",
              "    <div class=\"colab-df-container\">\n",
              "      <div>\n",
              "<style scoped>\n",
              "    .dataframe tbody tr th:only-of-type {\n",
              "        vertical-align: middle;\n",
              "    }\n",
              "\n",
              "    .dataframe tbody tr th {\n",
              "        vertical-align: top;\n",
              "    }\n",
              "\n",
              "    .dataframe thead th {\n",
              "        text-align: right;\n",
              "    }\n",
              "</style>\n",
              "<table border=\"1\" class=\"dataframe\">\n",
              "  <thead>\n",
              "    <tr style=\"text-align: right;\">\n",
              "      <th></th>\n",
              "      <th>v1</th>\n",
              "      <th>v2</th>\n",
              "    </tr>\n",
              "  </thead>\n",
              "  <tbody>\n",
              "    <tr>\n",
              "      <th>0</th>\n",
              "      <td>0</td>\n",
              "      <td>go jurong point crazy available bugis n great ...</td>\n",
              "    </tr>\n",
              "    <tr>\n",
              "      <th>1</th>\n",
              "      <td>0</td>\n",
              "      <td>ok lar joking wif u oni</td>\n",
              "    </tr>\n",
              "    <tr>\n",
              "      <th>2</th>\n",
              "      <td>1</td>\n",
              "      <td>free entry 2 wkly comp win fa cup final tkts 2...</td>\n",
              "    </tr>\n",
              "    <tr>\n",
              "      <th>3</th>\n",
              "      <td>0</td>\n",
              "      <td>u dun say early hor u c already say</td>\n",
              "    </tr>\n",
              "    <tr>\n",
              "      <th>4</th>\n",
              "      <td>0</td>\n",
              "      <td>nah think goes usf lives around though</td>\n",
              "    </tr>\n",
              "  </tbody>\n",
              "</table>\n",
              "</div>\n",
              "      <button class=\"colab-df-convert\" onclick=\"convertToInteractive('df-71b41499-4c3c-439d-b5a6-e8f51bb9f152')\"\n",
              "              title=\"Convert this dataframe to an interactive table.\"\n",
              "              style=\"display:none;\">\n",
              "        \n",
              "  <svg xmlns=\"http://www.w3.org/2000/svg\" height=\"24px\"viewBox=\"0 0 24 24\"\n",
              "       width=\"24px\">\n",
              "    <path d=\"M0 0h24v24H0V0z\" fill=\"none\"/>\n",
              "    <path d=\"M18.56 5.44l.94 2.06.94-2.06 2.06-.94-2.06-.94-.94-2.06-.94 2.06-2.06.94zm-11 1L8.5 8.5l.94-2.06 2.06-.94-2.06-.94L8.5 2.5l-.94 2.06-2.06.94zm10 10l.94 2.06.94-2.06 2.06-.94-2.06-.94-.94-2.06-.94 2.06-2.06.94z\"/><path d=\"M17.41 7.96l-1.37-1.37c-.4-.4-.92-.59-1.43-.59-.52 0-1.04.2-1.43.59L10.3 9.45l-7.72 7.72c-.78.78-.78 2.05 0 2.83L4 21.41c.39.39.9.59 1.41.59.51 0 1.02-.2 1.41-.59l7.78-7.78 2.81-2.81c.8-.78.8-2.07 0-2.86zM5.41 20L4 18.59l7.72-7.72 1.47 1.35L5.41 20z\"/>\n",
              "  </svg>\n",
              "      </button>\n",
              "      \n",
              "  <style>\n",
              "    .colab-df-container {\n",
              "      display:flex;\n",
              "      flex-wrap:wrap;\n",
              "      gap: 12px;\n",
              "    }\n",
              "\n",
              "    .colab-df-convert {\n",
              "      background-color: #E8F0FE;\n",
              "      border: none;\n",
              "      border-radius: 50%;\n",
              "      cursor: pointer;\n",
              "      display: none;\n",
              "      fill: #1967D2;\n",
              "      height: 32px;\n",
              "      padding: 0 0 0 0;\n",
              "      width: 32px;\n",
              "    }\n",
              "\n",
              "    .colab-df-convert:hover {\n",
              "      background-color: #E2EBFA;\n",
              "      box-shadow: 0px 1px 2px rgba(60, 64, 67, 0.3), 0px 1px 3px 1px rgba(60, 64, 67, 0.15);\n",
              "      fill: #174EA6;\n",
              "    }\n",
              "\n",
              "    [theme=dark] .colab-df-convert {\n",
              "      background-color: #3B4455;\n",
              "      fill: #D2E3FC;\n",
              "    }\n",
              "\n",
              "    [theme=dark] .colab-df-convert:hover {\n",
              "      background-color: #434B5C;\n",
              "      box-shadow: 0px 1px 3px 1px rgba(0, 0, 0, 0.15);\n",
              "      filter: drop-shadow(0px 1px 2px rgba(0, 0, 0, 0.3));\n",
              "      fill: #FFFFFF;\n",
              "    }\n",
              "  </style>\n",
              "\n",
              "      <script>\n",
              "        const buttonEl =\n",
              "          document.querySelector('#df-71b41499-4c3c-439d-b5a6-e8f51bb9f152 button.colab-df-convert');\n",
              "        buttonEl.style.display =\n",
              "          google.colab.kernel.accessAllowed ? 'block' : 'none';\n",
              "\n",
              "        async function convertToInteractive(key) {\n",
              "          const element = document.querySelector('#df-71b41499-4c3c-439d-b5a6-e8f51bb9f152');\n",
              "          const dataTable =\n",
              "            await google.colab.kernel.invokeFunction('convertToInteractive',\n",
              "                                                     [key], {});\n",
              "          if (!dataTable) return;\n",
              "\n",
              "          const docLinkHtml = 'Like what you see? Visit the ' +\n",
              "            '<a target=\"_blank\" href=https://colab.research.google.com/notebooks/data_table.ipynb>data table notebook</a>'\n",
              "            + ' to learn more about interactive tables.';\n",
              "          element.innerHTML = '';\n",
              "          dataTable['output_type'] = 'display_data';\n",
              "          await google.colab.output.renderOutput(dataTable, element);\n",
              "          const docLink = document.createElement('div');\n",
              "          docLink.innerHTML = docLinkHtml;\n",
              "          element.appendChild(docLink);\n",
              "        }\n",
              "      </script>\n",
              "    </div>\n",
              "  </div>\n",
              "  "
            ]
          },
          "metadata": {},
          "execution_count": 43
        }
      ]
    },
    {
      "cell_type": "markdown",
      "source": [
        "# v) Feature Extraction"
      ],
      "metadata": {
        "id": "2JAGk4CV-vtk"
      }
    },
    {
      "cell_type": "code",
      "source": [
        "\n",
        "from sklearn.feature_extraction.text import CountVectorizer\n",
        "count= CountVectorizer()\n",
        " \n",
        "x=count.fit_transform(mail['v2']).toarray()\n",
        "y=mail['v1']\n",
        "x.shape"
      ],
      "metadata": {
        "colab": {
          "base_uri": "https://localhost:8080/"
        },
        "id": "f5N-WzDJ3A5z",
        "outputId": "95eb3530-d574-4336-97e5-2652601f216d"
      },
      "execution_count": null,
      "outputs": [
        {
          "output_type": "execute_result",
          "data": {
            "text/plain": [
              "(5169, 9488)"
            ]
          },
          "metadata": {},
          "execution_count": 44
        }
      ]
    },
    {
      "cell_type": "markdown",
      "source": [
        "# vi) Split the dataset "
      ],
      "metadata": {
        "id": "kfq3wEMn7s6O"
      }
    },
    {
      "cell_type": "code",
      "source": [
        "from sklearn.model_selection import train_test_split\n",
        "x_train, x_test, y_train, y_test= train_test_split(x, y, test_size=0.2, random_state=0)\n",
        "\n",
        "A=x_train.shape[0]\n",
        "B=x_test.shape[0]\n",
        "\n",
        "x_train.shape,x_test.shape"
      ],
      "metadata": {
        "colab": {
          "base_uri": "https://localhost:8080/"
        },
        "id": "pqI0ykwm3BAD",
        "outputId": "08a31a17-f712-4756-8483-c581e861cd18"
      },
      "execution_count": null,
      "outputs": [
        {
          "output_type": "execute_result",
          "data": {
            "text/plain": [
              "((4135, 9488), (1034, 9488))"
            ]
          },
          "metadata": {},
          "execution_count": 45
        }
      ]
    },
    {
      "cell_type": "code",
      "source": [
        "import matplotlib.pyplot as plt\n",
        "fig = plt.figure()\n",
        "ax = fig.add_axes([0,0,1,1])\n",
        "tag=['Train', 'Test']\n",
        "num=[A,B]\n",
        "ax.bar(tag,num)\n",
        "plt.show()"
      ],
      "metadata": {
        "colab": {
          "base_uri": "https://localhost:8080/",
          "height": 336
        },
        "id": "X36SuB66RAhW",
        "outputId": "803aaf0f-f464-4270-d1eb-27a346f3498e"
      },
      "execution_count": null,
      "outputs": [
        {
          "output_type": "display_data",
          "data": {
            "text/plain": [
              "<Figure size 432x288 with 1 Axes>"
            ],
            "image/png": "[encoded data removed]"
          },
          "metadata": {
            "needs_background": "light"
          }
        }
      ]
    },
    {
      "cell_type": "code",
      "source": [
        "import seaborn as sn #statistical graphics\n",
        "#sns.displot(mail['v2'])"
      ],
      "metadata": {
        "id": "dBj9a967Lr4t"
      },
      "execution_count": null,
      "outputs": []
    },
    {
      "cell_type": "markdown",
      "source": [
        "\n",
        "# **3. MODEL TRAINING (CLASSIFIER)**"
      ],
      "metadata": {
        "id": "N1tG0fp2veTb"
      }
    },
    {
      "cell_type": "markdown",
      "source": [
        "**Training Mode---1)  SVC(Support Vector Classifier)**"
      ],
      "metadata": {
        "id": "zpvJdyGF4BBD"
      }
    },
    {
      "cell_type": "code",
      "source": [
        "from sklearn.svm import SVC\n",
        "svc = SVC(kernel=\"linear\")\n",
        "svc.fit(x_train, y_train)"
      ],
      "metadata": {
        "colab": {
          "base_uri": "https://localhost:8080/"
        },
        "id": "dYkCELWp3BDK",
        "outputId": "a910dc58-a79a-44c1-ff2d-bdf4e03082f9"
      },
      "execution_count": null,
      "outputs": [
        {
          "output_type": "execute_result",
          "data": {
            "text/plain": [
              "SVC(kernel='linear')"
            ]
          },
          "metadata": {},
          "execution_count": 48
        }
      ]
    },
    {
      "cell_type": "markdown",
      "source": [
        "**SVC ACCURACY**"
      ],
      "metadata": {
        "id": "_X4iPcwY_pbl"
      }
    },
    {
      "cell_type": "code",
      "source": [
        "a=svc.score(x_train, y_train)*100\n",
        "b=svc.score(x_test, y_test)*100"
      ],
      "metadata": {
        "id": "-ME-URWm3niN"
      },
      "execution_count": null,
      "outputs": []
    },
    {
      "cell_type": "code",
      "source": [
        "print(\"Training accuracy of the model: \",a,\"%\")\n",
        "print(\"Testing accuracy of the model: \",b,\"%\")"
      ],
      "metadata": {
        "colab": {
          "base_uri": "https://localhost:8080/"
        },
        "id": "cvyWFQmy-b4d",
        "outputId": "93ceef73-4846-4bbb-8fca-2dead8f7ddb0"
      },
      "execution_count": null,
      "outputs": [
        {
          "output_type": "stream",
          "name": "stdout",
          "text": [
            "Training accuracy of the model:  100.0 %\n",
            "Testing accuracy of the model:  97.77562862669245 %\n"
          ]
        }
      ]
    },
    {
      "cell_type": "code",
      "source": [
        "predictions = svc.predict(x_test)\n",
        "print(predictions)\n",
        "from sklearn.metrics import confusion_matrix \n",
        "mat=confusion_matrix(predictions, y_test)\n",
        "print(mat)\n",
        "from seaborn import heatmap\n",
        "heatmap(mat , cmap=\"Pastel1_r\", xticklabels=['class_0' ,'class_1'], yticklabels=['class_0' ,'class_1'], annot=True)"
      ],
      "metadata": {
        "id": "ablSEmsLvrOy",
        "colab": {
          "base_uri": "https://localhost:8080/",
          "height": 335
        },
        "outputId": "3c09faa8-c2d5-4937-d6aa-59ed0d9b060f"
      },
      "execution_count": null,
      "outputs": [
        {
          "output_type": "stream",
          "name": "stdout",
          "text": [
            "[0 0 0 ... 0 0 0]\n",
            "[[882  20]\n",
            " [  3 129]]\n"
          ]
        },
        {
          "output_type": "execute_result",
          "data": {
            "text/plain": [
              "<matplotlib.axes._subplots.AxesSubplot at 0x7f87f3ea23d0>"
            ]
          },
          "metadata": {},
          "execution_count": 51
        },
        {
          "output_type": "display_data",
          "data": {
            "text/plain": [
              "<Figure size 432x288 with 2 Axes>"
            ],
            "image/png": "[encoded data removed]"
          },
          "metadata": {
            "needs_background": "light"
          }
        }
      ]
    },
    {
      "cell_type": "markdown",
      "source": [
        "**Training Mode---2) Naive Bayes**"
      ],
      "metadata": {
        "id": "zC6FlADTANUt"
      }
    },
    {
      "cell_type": "code",
      "source": [
        "#some imported libraries\n",
        "\n",
        "from sklearn.metrics import accuracy_score"
      ],
      "metadata": {
        "id": "tLEMsu_gu8_o"
      },
      "execution_count": null,
      "outputs": []
    },
    {
      "cell_type": "code",
      "source": [
        "from sklearn.naive_bayes import MultinomialNB #suitable for discrete data\n",
        "mul = MultinomialNB() #Creating Naive Bayes Classifier\n",
        "mul.fit(x_train, y_train) # training the Naive Bayes model with the training data"
      ],
      "metadata": {
        "id": "Xr-m_27NvpWH",
        "colab": {
          "base_uri": "https://localhost:8080/"
        },
        "outputId": "38efa084-af64-4dfb-a4b3-94971da453ae"
      },
      "execution_count": null,
      "outputs": [
        {
          "output_type": "execute_result",
          "data": {
            "text/plain": [
              "MultinomialNB()"
            ]
          },
          "metadata": {},
          "execution_count": 53
        }
      ]
    },
    {
      "cell_type": "markdown",
      "source": [
        "**NAIVE BAYES ACCURACY**"
      ],
      "metadata": {
        "id": "e4DsbUzf4BzD"
      }
    },
    {
      "cell_type": "code",
      "source": [
        "print(\"Training accuracy of the model is {:.2f}\".format(mul.score(x_train, y_train)))\n",
        "print(\"Testing accuracy of the model is {:.2f}\".format(mul.score(x_test, y_test)))"
      ],
      "metadata": {
        "colab": {
          "base_uri": "https://localhost:8080/"
        },
        "id": "WJpSXU6334tg",
        "outputId": "6d9de6f0-3e75-494a-8633-f71cf0d24edf"
      },
      "execution_count": null,
      "outputs": [
        {
          "output_type": "stream",
          "name": "stdout",
          "text": [
            "Training accuracy of the model is 0.99\n",
            "Testing accuracy of the model is 0.97\n"
          ]
        }
      ]
    },
    {
      "cell_type": "code",
      "source": [
        "predictions = mul.predict(x_test) #predict based on the previous data and fitting to the model\n",
        "print(predictions)"
      ],
      "metadata": {
        "colab": {
          "base_uri": "https://localhost:8080/"
        },
        "id": "HGAYMbGO4e-r",
        "outputId": "c2306955-b8da-4360-a786-f67623e1420d"
      },
      "execution_count": null,
      "outputs": [
        {
          "output_type": "stream",
          "name": "stdout",
          "text": [
            "[0 0 0 ... 0 0 0]\n"
          ]
        }
      ]
    },
    {
      "cell_type": "code",
      "source": [
        "from sklearn.metrics import confusion_matrix #performance of classification algorithm\n",
        "mat=confusion_matrix(predictions, y_test)\n",
        "print(mat)"
      ],
      "metadata": {
        "colab": {
          "base_uri": "https://localhost:8080/"
        },
        "id": "4X5jG9fH40rL",
        "outputId": "82506073-de8e-4f98-ce79-a7b3e07c096a"
      },
      "execution_count": null,
      "outputs": [
        {
          "output_type": "stream",
          "name": "stdout",
          "text": [
            "[[862  12]\n",
            " [ 23 137]]\n"
          ]
        }
      ]
    },
    {
      "cell_type": "code",
      "source": [
        "from seaborn import heatmap\n",
        "heatmap(mat , cmap=\"Pastel1_r\", xticklabels=['class_0' ,'class_1' ,'class_2'], # transforms the correlation matrix into color coding.\n",
        "        yticklabels=['class_0' ,'class_1', 'class_2'], annot=True)"
      ],
      "metadata": {
        "colab": {
          "base_uri": "https://localhost:8080/",
          "height": 284
        },
        "id": "eoT1zFzL425L",
        "outputId": "4771ec84-25b1-4f71-d3f2-c7a123fccfce"
      },
      "execution_count": null,
      "outputs": [
        {
          "output_type": "execute_result",
          "data": {
            "text/plain": [
              "<matplotlib.axes._subplots.AxesSubplot at 0x7f87f3dad950>"
            ]
          },
          "metadata": {},
          "execution_count": 57
        },
        {
          "output_type": "display_data",
          "data": {
            "text/plain": [
              "<Figure size 432x288 with 2 Axes>"
            ],
            "image/png": "[encoded data removed]"
          },
          "metadata": {
            "needs_background": "light"
          }
        }
      ]
    },
    {
      "cell_type": "markdown",
      "source": [
        "**Training Mode---3) Logistic Regression**"
      ],
      "metadata": {
        "id": "lFPm6QW_AUbt"
      }
    },
    {
      "cell_type": "code",
      "source": [
        "from sklearn.linear_model import LogisticRegression\n",
        "LR = LogisticRegression(solver='liblinear')\n",
        "LR.fit(x_train, y_train)\n"
      ],
      "metadata": {
        "id": "660SANyXAc31",
        "colab": {
          "base_uri": "https://localhost:8080/"
        },
        "outputId": "7d90b8b0-b793-454c-a942-d13e91828d22"
      },
      "execution_count": null,
      "outputs": [
        {
          "output_type": "execute_result",
          "data": {
            "text/plain": [
              "LogisticRegression(solver='liblinear')"
            ]
          },
          "metadata": {},
          "execution_count": 58
        }
      ]
    },
    {
      "cell_type": "markdown",
      "source": [
        "**LOGISTIC REGRESSION ACCURACY**"
      ],
      "metadata": {
        "id": "kbUhdE-QGFjd"
      }
    },
    {
      "cell_type": "code",
      "source": [
        "print(\"Training accuracy of the model is {:.2f}\".format(LR.score(x_train, y_train)))\n",
        "print(\"Testing accuracy of the model is {:.2f}\".format(LR.score(x_test, y_test)))\n"
      ],
      "metadata": {
        "id": "kfZ2Hz2hGYiN",
        "colab": {
          "base_uri": "https://localhost:8080/"
        },
        "outputId": "a75340ee-5f69-491a-d643-d89fdbed6725"
      },
      "execution_count": null,
      "outputs": [
        {
          "output_type": "stream",
          "name": "stdout",
          "text": [
            "Training accuracy of the model is 1.00\n",
            "Testing accuracy of the model is 0.97\n"
          ]
        }
      ]
    },
    {
      "cell_type": "code",
      "source": [
        "predictions = LR.predict(x_test)\n",
        "print(predictions)\n",
        "\n",
        "from sklearn.metrics import confusion_matrix\n",
        "mat=confusion_matrix(predictions, y_test)\n",
        "print(mat)\n",
        "\n",
        "from seaborn import heatmap\n",
        "heatmap(mat , cmap=\"Pastel1_r\", xticklabels=['class_0' ,'class_1'], yticklabels=['class_0' ,'class_1'], annot=True)"
      ],
      "metadata": {
        "colab": {
          "base_uri": "https://localhost:8080/",
          "height": 335
        },
        "id": "P8ljxSO0LDwE",
        "outputId": "faa665e6-d676-4f59-9eb8-d3a2417c85ee"
      },
      "execution_count": null,
      "outputs": [
        {
          "output_type": "stream",
          "name": "stdout",
          "text": [
            "[0 0 0 ... 0 0 0]\n",
            "[[883  24]\n",
            " [  2 125]]\n"
          ]
        },
        {
          "output_type": "execute_result",
          "data": {
            "text/plain": [
              "<matplotlib.axes._subplots.AxesSubplot at 0x7f87f3d99bd0>"
            ]
          },
          "metadata": {},
          "execution_count": 60
        },
        {
          "output_type": "display_data",
          "data": {
            "text/plain": [
              "<Figure size 432x288 with 2 Axes>"
            ],
            "image/png": "[encoded data removed]"
          },
          "metadata": {
            "needs_background": "light"
          }
        }
      ]
    },
    {
      "cell_type": "markdown",
      "source": [
        "**VISUALIZATION**"
      ],
      "metadata": {
        "id": "gsaU7x0VIWiU"
      }
    },
    {
      "cell_type": "code",
      "source": [
        "from sklearn.calibration import CalibrationDisplay\n",
        "from sklearn.linear_model import LogisticRegression\n",
        "from sklearn.naive_bayes import GaussianNB\n",
        "\n",
        "# Create classifiers\n",
        "lr = LogisticRegression()\n",
        "mul = MultinomialNB()\n",
        "#svc = svm.SVC(kernel='linear')\n",
        "\n",
        "\n",
        "clf_list = [\n",
        "    (lr, \"Logistic\"),\n",
        "    (mul, \"Naive Bayes\")\n",
        "    #(svc, \"SVC\")\n",
        "    \n",
        "]"
      ],
      "metadata": {
        "id": "w99g9ftcJBuz"
      },
      "execution_count": null,
      "outputs": []
    },
    {
      "cell_type": "code",
      "source": [
        "import matplotlib.pyplot as plt\n",
        "from matplotlib.gridspec import GridSpec\n",
        "\n",
        "fig = plt.figure(figsize=(10, 10))\n",
        "gs = GridSpec(4, 2)\n",
        "colors = plt.cm.get_cmap(\"Dark2\")\n",
        "\n",
        "ax_calibration_curve = fig.add_subplot(gs[:2, :2])\n",
        "calibration_displays = {}\n",
        "for i, (clf, name) in enumerate(clf_list):\n",
        "    clf.fit(x_train, y_train)\n",
        "    display = CalibrationDisplay.from_estimator(\n",
        "        clf,\n",
        "        x_test,\n",
        "        y_test,\n",
        "        n_bins=10,\n",
        "        name=name,\n",
        "        ax=ax_calibration_curve,\n",
        "        color=colors(i),\n",
        "    )\n",
        "    calibration_displays[name] = display\n",
        "\n",
        "ax_calibration_curve.grid()\n",
        "ax_calibration_curve.set_title(\"Calibration plots\")\n",
        "\n",
        "# Add histogram\n",
        "grid_positions = [(2, 0), (2, 1), (3, 0)]\n",
        "for i, (_, name) in enumerate(clf_list):\n",
        "    row, col = grid_positions[i]\n",
        "    ax = fig.add_subplot(gs[row, col])\n",
        "\n",
        "    ax.hist(\n",
        "        calibration_displays[name].y_prob,\n",
        "        range=(0, 1),\n",
        "        bins=10,\n",
        "        label=name,\n",
        "        color=colors(i),\n",
        "    )\n",
        "    ax.set(title=name, xlabel=\"Mean predicted probability\", ylabel=\"Count\")\n",
        "\n",
        "plt.tight_layout()\n",
        "plt.show()"
      ],
      "metadata": {
        "id": "4dZL9lLoMMhN",
        "colab": {
          "base_uri": "https://localhost:8080/",
          "height": 575
        },
        "outputId": "b232f418-dcc8-41ed-c1bb-9f979ec733b3"
      },
      "execution_count": null,
      "outputs": [
        {
          "output_type": "display_data",
          "data": {
            "text/plain": [
              "<Figure size 720x720 with 3 Axes>"
            ],
            "image/png": "[encoded data removed]"
          },
          "metadata": {
            "needs_background": "light"
          }
        }
      ]
    },
    {
      "cell_type": "markdown",
      "source": [
        "# **REFERENCES**\n",
        "\n",
        "1. Hassan, Muhammad Ali & Mtetwa, Nhamoinesu. (2018). Feature Extraction and Classification of Spam Emails. 93-98. 10.1109/ISCMI.2018.8703222. \n",
        "https://www.researchgate.net/publication/332823881_Feature_Extraction_and_Classification_of_Spam_Emails\n",
        "2. S. (2021, December 15). Spam Mail Detection Using Support Vector Machine. - Becoming Human: Artificial Intelligence Magazine. Medium. https://becominghuman.ai/spam-mail-detection-using-support-vector-machine-cdb57b0d62a8 \n",
        "3. McGregor, M. (2020, July 2). SVM Machine Learning Tutorial – What is the Support Vector Machine Algorithm, Explained with Code Examples. freeCodeCamp.Org. https://www.freecodecamp.org/news/svm-machine-learning-tutorial-what-is-the-support-vector-machine-algorithm-explained-with-code-examples/ \n",
        "\n",
        "\n",
        "\n",
        "\n",
        "\n",
        "\n"
      ],
      "metadata": {
        "id": "tnj2y6qcKnyu"
      }
    }
  ]
}